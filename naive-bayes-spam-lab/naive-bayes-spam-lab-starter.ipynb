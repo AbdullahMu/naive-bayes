{
 "cells": [
  {
   "cell_type": "markdown",
   "metadata": {},
   "source": [
    "<img src=\"https://ga-dash.s3.amazonaws.com/production/assets/logo-9f88ae6c9c3871690e33280fcf557f33.png\" style=\"float: left; margin: 15px;\">\n",
    "\n",
    "## Naive Bayes Spam Filter Using SpamAssassin Data\n",
    "\n",
    "<br>\n",
    "\n",
    "---\n",
    "\n",
    "In this lab, we will write our own spam filter -- one of the many practical uses of Naive Bayes. We will additionally explore methods for visualizing text features in an effort to gain insight and improve our models.\n",
    "\n",
    "### Background\n",
    "\n",
    "The statistical approach for classifying spam was championed by Paul Graham, founder of Y Combinator. We highly recommend you read his classic (and very readable!) essay [A Plan for Spam](http://www.paulgraham.com/spam.html) to gain insight into why Naive Bayes works so well with spam.\n",
    "\n",
    "The reason why Naive Bayes works incredibly well to classify spam is because spam aligns with the independence assumption. Certain keywords in emails -- taken by themselves (e.g. Nigeria / prince) -- typically indicate a spam message.\n",
    "\n",
    "In this lab, the word **ham** indicates an email message that was authorized by the user. Sometimes we receive advertising emails that look like spam, yet we agreed to receive them. This fact can make spam detection more difficult. For a challenge, try classifying the `hard_ham` dataset below."
   ]
  },
  {
   "cell_type": "markdown",
   "metadata": {},
   "source": [
    "# Spam Lab"
   ]
  },
  {
   "cell_type": "markdown",
   "metadata": {},
   "source": [
    "### 1. Download the data\n",
    "\n",
    "We are using the data files from the SpamAssassin dataset:\n",
    "\n",
    "+ https://spamassassin.apache.org/old/publiccorpus/20021010_easy_ham.tar.bz2\n",
    "+ https://spamassassin.apache.org/old/publiccorpus/20021010_hard_ham.tar.bz2\n",
    "+ https://spamassassin.apache.org/old/publiccorpus/20021010_spam.tar.bz2\n",
    "\n",
    "From the command line, you can either use ```curl``` to download into the current directory. For an example of each:\n",
    "\n",
    "    curl http://spamassassin.apache.org/old/publiccorpus/20021010_easy_ham.tar.bz2 > 20021010_easy_ham.tar.bz2\n",
    "\n",
    "You can use ```tar xvf <file>``` to extract into the current directory (x - extract, v - verbose, f - read from file). For example:\n",
    "\n",
    "    tar xvf 20021010_easy_ham.tar.bz2"
   ]
  },
  {
   "cell_type": "markdown",
   "metadata": {},
   "source": [
    "### Imports"
   ]
  },
  {
   "cell_type": "code",
   "execution_count": 1,
   "metadata": {},
   "outputs": [],
   "source": [
    "import glob\n",
    "\n",
    "import pandas as pd\n",
    "import numpy as np\n",
    "\n",
    "from sklearn.feature_extraction.text import CountVectorizer, TfidfVectorizer\n",
    "from sklearn.naive_bayes import BernoulliNB, MultinomialNB\n",
    "\n",
    "from sklearn.model_selection import cross_val_score\n",
    "from sklearn.model_selection import train_test_split\n",
    "\n",
    "from matplotlib import pyplot as plt\n",
    "%matplotlib inline"
   ]
  },
  {
   "cell_type": "markdown",
   "metadata": {},
   "source": [
    "### 1. Get directory contents"
   ]
  },
  {
   "cell_type": "code",
   "execution_count": 2,
   "metadata": {},
   "outputs": [
    {
     "data": {
      "text/plain": [
       "['./datasets/spam/0313.5126f820bf11ba460e2c1611cee632c1',\n",
       " './datasets/spam/0420.6112350c5fb3dcf5a67a4fafac80702e',\n",
       " './datasets/spam/0300.fa3ece84a195f3d36a70f2550824071f',\n",
       " './datasets/spam/0001.bfc8d64d12b325ff385cca8d07b84288',\n",
       " './datasets/spam/0223.8ab642208d33d7f9ac50bc2e42c02732',\n",
       " './datasets/spam/0164.c8532626eaab6655e81f4d96b78cc659',\n",
       " './datasets/spam/0016.f9c349935955e1ccc7626270da898445',\n",
       " './datasets/spam/0374.ed17ed71f8d321cf8505672678c56e71',\n",
       " './datasets/spam/0145.ec89d85ec20f9aeda6fe37c0b6e8bbed',\n",
       " './datasets/spam/0461.27302a2e94d8948f8a81a7d4c8566cf0',\n",
       " './datasets/spam/0233.e9834d55f8185a84ce8a047b2eba2139',\n",
       " './datasets/spam/0319.e4a20802d12937998f3b3bf805362a3f',\n",
       " './datasets/spam/0081.3309521659461b743e1bfc3dc688a5f1',\n",
       " './datasets/spam/0277.4b6ea2e210cacce0e46064da22a05549',\n",
       " './datasets/spam/0245.39c15852204971c72e8d89f9f3f9bb38',\n",
       " './datasets/spam/0480.fc9323682825f7d93ed78a82970ceaea',\n",
       " './datasets/spam/0363.bafc8f5920a1e35acb4b06d6f6daa74c',\n",
       " './datasets/spam/0493.c82e983c32e4888b4fbb0084cb303608',\n",
       " './datasets/spam/0384.e25b766bea2f1efe35eccb7eb6f54e37',\n",
       " './datasets/spam/0150.30c44c205041fd95f00ef524ea54e356',\n",
       " './datasets/spam/0209.59817ef0dc8d05d4b49bd5914fa88afa',\n",
       " './datasets/spam/0483.488a059db4a731caae8143bf298d6ac4',\n",
       " './datasets/spam/0267.0bf79a17115bffdf00bb0997f773dfc5',\n",
       " './datasets/spam/0120.4312b48b82c3d018d2d4ccf5b8e9c167',\n",
       " './datasets/spam/0129.78a705ff6b3bde3395d067459e6e46e2',\n",
       " './datasets/spam/0262.c996a3709ca616fce1bfc6d50cf5bda3',\n",
       " './datasets/spam/0132.7ac2141ed9a163f934ac65b3f59a2a03',\n",
       " './datasets/spam/0249.c429ab5c1413c4386bf64b228a68e768',\n",
       " './datasets/spam/0323.badf0273f656afd0dfebaa63af1c81f6',\n",
       " './datasets/spam/0095.e1db2d3556c2863ef7355faf49160219',\n",
       " './datasets/spam/0468.8edb99340b9a96a81813be2d3362605d',\n",
       " './datasets/spam/0103.8c39bfed2079f865e9dfb75f4416a468',\n",
       " './datasets/spam/0431.cc38713737ea22e2e329205efd78840a',\n",
       " './datasets/spam/0417.8e6ff04af5a268d0495259b3f6a24d58',\n",
       " './datasets/spam/0311.fad7da9629598eaffeaf6896bdf32d9c',\n",
       " './datasets/spam/0246.3b997087302d48ff57ab5afb3d400d5b',\n",
       " './datasets/spam/0102.2e3969075728dde7a328e05d19b35976',\n",
       " './datasets/spam/0330.a4df526233e524104c3b3554dd8ab5a8',\n",
       " './datasets/spam/0222.6ad799703d958681d6e427762f86f179',\n",
       " './datasets/spam/0242.a8ba01c4d998005e3ad3495293582bb6',\n",
       " './datasets/spam/0217.2a937e0b9912e1e40dbf17bad6026372',\n",
       " './datasets/spam/0342.babb5045c49b585808041391599bc05d',\n",
       " './datasets/spam/0119.07aedc59172c0c25ef617188ada9b80f',\n",
       " './datasets/spam/0387.c2b993b46377256bdcb2314c2553b6f0',\n",
       " './datasets/spam/0475.f3c5fb57463eb715fa93e9ce483c49fe',\n",
       " './datasets/spam/0430.17440122811305f78e499d2ed0a1fe46',\n",
       " './datasets/spam/0160.b6b241d37fa9d5f772afca9ef30034c3',\n",
       " './datasets/spam/0110.20934dc65c9a88fc9c6afda9952ce2c5',\n",
       " './datasets/spam/0153.eddc658b08a04641a2494ba6b6eb0a3c',\n",
       " './datasets/spam/0345.b8ba4d6a115368132d1d580c4c9e0307',\n",
       " './datasets/spam/0341.7c13df68bb4feae35d9ea86001a3ecad',\n",
       " './datasets/spam/0154.e39fc51ffdb9c2ecd480ce972078aeaa',\n",
       " './datasets/spam/0297.9e6095368b4e8258e967798cea8fe40e',\n",
       " './datasets/spam/0113.ff113297f0ed07536d288c7b2193a8ec',\n",
       " './datasets/spam/0472.40695f88feb07754e40b1008aeb47bd1',\n",
       " './datasets/spam/0198.43bac6df7ea16e4c4b0026779341f14b',\n",
       " './datasets/spam/0365.212dff15cc46d4650d9a270bf595b42f',\n",
       " './datasets/spam/0457.fc29b47778cf7dae8206fb24985dd8dd',\n",
       " './datasets/spam/0211.195957199f6e9f694f9811ad83eda5c4',\n",
       " './datasets/spam/0487.b57549dc531f50c1ff1e3356bc38b390',\n",
       " './datasets/spam/0200.a56926c058fa84b0ea031b5774e5dcfa',\n",
       " './datasets/spam/0464.c1345cc18f1944b61a219dcdfe54088a',\n",
       " './datasets/spam/0256.ad88c1a165392a509a8b0b8df6d56cbd',\n",
       " './datasets/spam/0142.1fd05cffaba260b9ecd3e75b6dddaf73',\n",
       " './datasets/spam/0218.e3fc04cbcfdf224a5fa652779c01029c',\n",
       " './datasets/spam/0412.4e18b948471feca1fa1610ce7c1259a2',\n",
       " './datasets/spam/0289.93b23ed2f96babb55c0f2a4e0c0684f7',\n",
       " './datasets/spam/0305.2252f3b41c7fd3a43ac132a6b3391a3b',\n",
       " './datasets/spam/0381.492ed1e5eed1b631560e2009be5b8c9a',\n",
       " './datasets/spam/0042.21cc985cc36d931916863aed24de8c27',\n",
       " './datasets/spam/0441.b820c1999715c2e5ded6418d2b17723c',\n",
       " './datasets/spam/0419.a42a284750591b454968a76dfab38370',\n",
       " './datasets/spam/0092.bf7453c6b7917ca30074a3030d84e36d',\n",
       " './datasets/spam/0373.2171ee7f8e73e1092279077df2910ff6',\n",
       " './datasets/spam/0321.89f41bbace08275ee298ed419e22bc9a',\n",
       " './datasets/spam/0314.5b03e0718373f3319eadaec592308aba',\n",
       " './datasets/spam/0260.737eefb83e7eedbd531117c273c56241',\n",
       " './datasets/spam/0360.5f5fc66c831d845705efac502121308a',\n",
       " './datasets/spam/0188.6590e73ef71e79c5b6adedbacf91ac8c',\n",
       " './datasets/spam/0083.a042c7512d5db5f9fc1857fdc6bbdcc3',\n",
       " './datasets/spam/0098.01d2958ccb7c2e4c02d0920593962436',\n",
       " './datasets/spam/0141.516a4fe92f63469bd4a21d46dd6bb3be',\n",
       " './datasets/spam/0436.97d3a7bc4377152052dd717581387f36',\n",
       " './datasets/spam/0225.7082ef8585280a42940bf98f9be50e55',\n",
       " './datasets/spam/0264.2281c4eb36accd65d9c2cab379de2789',\n",
       " './datasets/spam/0327.5df76bb4359800b5408821285677b5cf',\n",
       " './datasets/spam/0091.113ec7122d4046a2754bcf70b9fb5299',\n",
       " './datasets/spam/0459.5d8701dbedee666b885d456475f0301d',\n",
       " './datasets/spam/0447.badf14ca8ec589b0b2d25369573ffe84',\n",
       " './datasets/spam/0130.e258624171c813fc6057728c0ff0c059',\n",
       " './datasets/spam/0258.1d61b380a23168881253ed86bb4f79ac',\n",
       " './datasets/spam/0391.a52ab775baefe8b277a285560cac7d78',\n",
       " './datasets/spam/0085.6e7b1a983ab05445a7eaffcbb6811d3f',\n",
       " './datasets/spam/0055.8b2154bb7ec1f411495f37f519f1835d',\n",
       " './datasets/spam/0067.02c6e51107f39ee60453ff8e7372101d',\n",
       " './datasets/spam/0237.4716d6d5a4e89997c6ffc2d56951d57a',\n",
       " './datasets/spam/0308.1245e8fa9e6092687b535e36b367d8fb',\n",
       " './datasets/spam/0470.b9e513715695ea1c79c1e5af0fb0eea9',\n",
       " './datasets/spam/0231.30ae582570716a95e79c87a2de31cb30',\n",
       " './datasets/spam/0176.70022adaab1a9dfe64ae7588ffa5add9',\n",
       " './datasets/spam/0163.e4abb3f86aa9fd5bfa85886055fd923d',\n",
       " './datasets/spam/0471.f3cd3e181577b34e474bea8c480d1b44',\n",
       " './datasets/spam/0353.27effabff54bfbed52d2c93a1bf0e48a',\n",
       " './datasets/spam/0422.cce79e048419b788816e8a2c28525afb',\n",
       " './datasets/spam/0023.4299adbda55862876440ecbc2fce6a67',\n",
       " './datasets/spam/0467.b59a3337d0979ba8d587bf4c166db8b1',\n",
       " './datasets/spam/0172.e524e85cab354337018e1d0d2fc21ffd',\n",
       " './datasets/spam/0027.028e0b165e8ea6f479e09a8f8cc7e50d',\n",
       " './datasets/spam/0173.f7902a7780f163e3896861983cd700c6',\n",
       " './datasets/spam/0143.260a940290dcb61f9327b224a368d4af',\n",
       " './datasets/spam/0418.89cb8cbdd1cd4424829658e11ec6a13e',\n",
       " './datasets/spam/0312.a0e7f2633bd0ceaddf16fba58be54778',\n",
       " './datasets/spam/0408.87f7a3c9c29aaf97b413126029aacc6a',\n",
       " './datasets/spam/0405.18a5c3d971e1def2c3b4a2df122f3583',\n",
       " './datasets/spam/0482.d2338d94e40e6028a89c0a197ed7c470',\n",
       " './datasets/spam/0406.4b29229820cc5e9675ad369a3a000f43',\n",
       " './datasets/spam/0250.80b7bd444753246734e015af7b6d2d65',\n",
       " './datasets/spam/0174.3874b6ff3c86a5ebefb558138a6bfb28',\n",
       " './datasets/spam/0497.9307bd1fb5347f9fbf1f54ebe95b1d20',\n",
       " './datasets/spam/0175.bf85f34d953215bca7d0004aca087812',\n",
       " './datasets/spam/0035.8e582263070076dfe6000411d9b13ce6',\n",
       " './datasets/spam/0010.7f5fb525755c45eb78efc18d7c9ea5aa',\n",
       " './datasets/spam/0026.4f10fab6e6776379c17ee9c9ac7da4a8',\n",
       " './datasets/spam/0111.a163d41592b3a52747d7521341a961af',\n",
       " './datasets/spam/0396.8ea0610e30c94adefd9b3489df436ad9',\n",
       " './datasets/spam/0106.fa6df8609cebb6f0f37aec3f70aa5b9a',\n",
       " './datasets/spam/0000.7b1b73cf36cf9dbc3d64e3f2ee2b91f1',\n",
       " './datasets/spam/0057.92fdae44bdd1d9e5461eef3c852dfd23',\n",
       " './datasets/spam/0329.5c22249fa35fff050675e7df4433b89f',\n",
       " './datasets/spam/0064.d700742b9815d990b2e5a7921e8d854c',\n",
       " './datasets/spam/0115.d7c257361675ee5d45baa552205fb472',\n",
       " './datasets/spam/0366.539843bed9a06ae77966ccbc9dc2e103',\n",
       " './datasets/spam/0122.21b041c1ad2be417102d7f5d3f0b7045',\n",
       " './datasets/spam/0315.26ca39910895a935e2b8bca93a44ebfe',\n",
       " './datasets/spam/0272.97ecf97bd5f1563ac88d9eb4c8a51062',\n",
       " './datasets/spam/0050.b8200e218e5a5a433f897e9495253a30',\n",
       " './datasets/spam/0404.a2c9ac35a89a129ce473c5d977409131',\n",
       " './datasets/spam/0156.279e5f92cf12922fbbf0cbda112b7fcb',\n",
       " './datasets/spam/0063.3bec5361a5edfdbcc371241b3d74e3bf',\n",
       " './datasets/spam/0309.2a74113b0330ea76cecd28571fc6f7fe',\n",
       " './datasets/spam/0302.10798aa48d25b3f61778f379964a57e5',\n",
       " './datasets/spam/0084.df5ac85de3405b6d07c9fa7ba3eecf6a',\n",
       " './datasets/spam/0202.f1c9a17fe805c50677c104743e4f8be2',\n",
       " './datasets/spam/0495.a13bce4369913c929a48b073f2b320c9',\n",
       " './datasets/spam/0158.ff5dce5446d2ec91f0caffeffdd48852',\n",
       " './datasets/spam/0318.da63a8488410932cf780238ec0ba59eb',\n",
       " './datasets/spam/0037.7ce3307b56dd90453027a6630179282e',\n",
       " './datasets/spam/0171.495412eb56506d9668b9dacf46860978',\n",
       " './datasets/spam/0411.e6e37cbb02ad33b4e0ba5fb6caf2bbcf',\n",
       " './datasets/spam/0320.e34c9c6f982b8ce353c10aa362d6da17',\n",
       " './datasets/spam/0020.4120dc06a0124a8688e96f8cff029113',\n",
       " './datasets/spam/0078.8ff64b5c77f9c9618bd7b119ae14c8b2',\n",
       " './datasets/spam/0159.8a5c778f65ecc30e14507369b9eb8292',\n",
       " './datasets/spam/0148.7641581f551a1bf533b995087a8a91db',\n",
       " './datasets/spam/0456.578afb400f87833c03c4dc2be6fd85bd',\n",
       " './datasets/spam/0376.d87b4313e6c43a986060d57a0b8515a6',\n",
       " './datasets/spam/0266.99e95dc7251843f7a2015cb602775694',\n",
       " './datasets/spam/0476.0530ef1b33305fdf919489946570685b',\n",
       " './datasets/spam/0429.b1077599c85314135e6d82d654c98d55',\n",
       " './datasets/spam/0307.2e4dc0cdb1e3b49f0986c19c1f324224',\n",
       " './datasets/spam/0453.622475ac240e9e2cdcdbb1a095cc8d28',\n",
       " './datasets/spam/0270.d50e186af7a00114ad967b8f77b70338',\n",
       " './datasets/spam/0228.23fc5aadfceb81d121d77dfe37f6929a',\n",
       " './datasets/spam/0423.3b9b432fa25a7ac8c494db8d2e42cc73',\n",
       " './datasets/spam/0358.8a6a162daac1368fcfe83a5db1084ee1',\n",
       " './datasets/spam/0227.4266b9e8c02a2c7b13d4d8661a76f75a',\n",
       " './datasets/spam/0301.ad155a30cca1f9d16e75e8934030edae',\n",
       " './datasets/spam/0500.2e8762b67913d1b07bc8da293448d27f',\n",
       " './datasets/spam/0214.b5ba0ff48cee07a36c6f312de7f77207',\n",
       " './datasets/spam/0014.ed99ffe0f452b91be11684cbfe8d349c',\n",
       " './datasets/spam/0372.216f90ef52558ed24402e192586a40e8',\n",
       " './datasets/spam/0333.492c1809f9755e305774bed2aaa3aa9b',\n",
       " './datasets/spam/0400.a152ca3d2735f5dfe48601331471c591',\n",
       " './datasets/spam/0199.955edee89f34960c033c4d1072841356',\n",
       " './datasets/spam/0355.94ebf637e4bd3db8a81c8ce68ecf681d',\n",
       " './datasets/spam/0287.37dd6b1a54993de94495643ead4fd2cf',\n",
       " './datasets/spam/0239.43b3279a300a122610f91725bb92a538',\n",
       " './datasets/spam/0444.f81c80c3f2d43ecd8b117213f3e60c53',\n",
       " './datasets/spam/0047.376bd7728ee94b32bc23429d9c51bae5',\n",
       " './datasets/spam/0401.450b38785db348f7d8c83c64304dd6e3',\n",
       " './datasets/spam/0240.96467ad3d42ebd44b042599f5aa9c9d9',\n",
       " './datasets/spam/0413.4c74110f6640067c2172a04543dea670',\n",
       " './datasets/spam/0180.afdbcd7acb65828c217eea90ff92c3b0',\n",
       " './datasets/spam/0230.035bbcbe1235cb6fdd0a5d6d626dc5c4',\n",
       " './datasets/spam/0334.3e4946e69031f3860ac6de3d3f27aadd',\n",
       " './datasets/spam/0203.beb1b157fc74672074061434cc7bad3c',\n",
       " './datasets/spam/0392.9e194dfff92f7d9957171b04a8d4b957',\n",
       " './datasets/spam/0332.b82bddb316d2e12418d6ea8791ce5896',\n",
       " './datasets/spam/0449.066d44ef3e1ff26103ea1b35b0a2e6d5',\n",
       " './datasets/spam/0090.9a7e76d58065e29e709161dbe569fe54',\n",
       " './datasets/spam/0221.ee1d208001fd30265827fb309441d662',\n",
       " './datasets/spam/0070.977e083b104717202fe944ae6065624e',\n",
       " './datasets/spam/0205.d3c294d833fd7c79edd96dac71039821',\n",
       " './datasets/spam/0039.256602e2cb5a5b373bdd1fb631d9f452',\n",
       " './datasets/spam/0275.0404a07cd99e27d569958716f392082b',\n",
       " './datasets/spam/0056.0f99dde58a7c4e18944397ab47e0412c',\n",
       " './datasets/spam/0071.4c3840b98dc207623d0c0e66a6d40af2',\n",
       " './datasets/spam/0279.4ef122899a70a2225ffb9b5c54fde1fc',\n",
       " './datasets/spam/0243.458c8e32e405b69f561fd77bc16f440c',\n",
       " './datasets/spam/0276.7e2fed586e292a7ad8cde7cb095a2601',\n",
       " './datasets/spam/0196.16da0dc3452b7407d4f89a0b2efcff0c',\n",
       " './datasets/spam/0179.3a4c735c7c1e494f4e7a7b9465043280',\n",
       " './datasets/spam/0069.a0b6cfde0e477af7f406ee756ba53826',\n",
       " './datasets/spam/0101.2dfd7ee79ae439b8d9c38e783a137efa',\n",
       " './datasets/spam/0232.0edc8786183135557c0f2da5a4460508',\n",
       " './datasets/spam/0061.c148ebba16540e48c7aae2e3f733a8a3',\n",
       " './datasets/spam/0244.7e5d917c8a76d52cc694c5cf8ab8497d',\n",
       " './datasets/spam/0433.8977506bae8028f48290ea0fb2f54ddd',\n",
       " './datasets/spam/0407.157349d43c03e008f2448e1f37c510aa',\n",
       " './datasets/spam/0155.829bab9379cfe32fe4b5af15ca99361b',\n",
       " './datasets/spam/0451.588b22df28f4036ff3895447afbcb7f3',\n",
       " './datasets/spam/0288.c50b1fb60cac2cca358d7543602623ee',\n",
       " './datasets/spam/0034.d5a5e526aa6b249ed6ca184548a44b1a',\n",
       " './datasets/spam/0410.be908008e0e27722a177b289227f5fc1',\n",
       " './datasets/spam/0144.58d3de25279e1938f24502d70dfa9754',\n",
       " './datasets/spam/0398.93e6be09b12b93697185c881c739605d',\n",
       " './datasets/spam/0382.8f4cd77d3b521fa679ed62a9dda23d9a',\n",
       " './datasets/spam/0478.16f274ffd3e884a574c9461012cadea6',\n",
       " './datasets/spam/0007.859c901719011d56f8b652ea071c1f8b',\n",
       " './datasets/spam/0024.fc4bd0b22cd7907e99f8a35b74655b15',\n",
       " './datasets/spam/0282.b9f0c6ac87b24a9abac5f2a564c0a6c6',\n",
       " './datasets/spam/0359.2794a4ec8f226ea59a009e972d012f64',\n",
       " './datasets/spam/0426.2002be3b0195b54596a5e7fd7d7561d5',\n",
       " './datasets/spam/0219.0f66069db1b4e25ba851233ce4a107c4',\n",
       " './datasets/spam/0210.285d263b1a18e67c68ec9fe005253dd0',\n",
       " './datasets/spam/0421.a5e7e7b43acb5501368b8c61221477f1',\n",
       " './datasets/spam/0041.21cc985cc36d931916863aed24de8c27',\n",
       " './datasets/spam/0435.2078783521379b81a45f1a5c48ca131f',\n",
       " './datasets/spam/0099.c4ff6dba0a5177d3c7d8ef54c8920496',\n",
       " './datasets/spam/0388.23ff533336b63fb45d267b8cbe59b7b4',\n",
       " './datasets/spam/0393.d3a4d296a35c6a7f39429247c007eeae',\n",
       " './datasets/spam/0197.6968d98720065059247cefe4e5bcd192',\n",
       " './datasets/spam/0108.4506c2ef846b80b9a7beb90315b22701',\n",
       " './datasets/spam/0147.65cf30538f09402e4d1bd4aa91d9532a',\n",
       " './datasets/spam/0424.b283405aeac6a8ff4c4a4e4e85310268',\n",
       " './datasets/spam/0109.601a9cd8272f22236b27e95dbe2fa22d',\n",
       " './datasets/spam/0377.31267c80e042b22be0436c044c13513a',\n",
       " './datasets/spam/0004.1874ab60c71f0b31b580f313a3f6e777',\n",
       " './datasets/spam/0058.abb13c5db31d26a58607aac809573ed4',\n",
       " './datasets/spam/0170.fe4f77fa9456b48dffa9288074b2bb2a',\n",
       " './datasets/spam/0161.00e60d1a3478f1ae99ff49fbd4b30605',\n",
       " './datasets/spam/0082.705cdc08c2ee77821391a847d9c1a4e3',\n",
       " './datasets/spam/0131.0b7281078874ca88f95d6fdf5d905d50',\n",
       " './datasets/spam/0390.176f9525715411d7e2ce36e5bab4c770',\n",
       " './datasets/spam/0294.8dde5983e6dcd314a8aa3f89e01c1ec2',\n",
       " './datasets/spam/0139.40f371501f8a2a3fb4ff62143c0671b9',\n",
       " './datasets/spam/0452.63e7d2b55fd5301d2c5d2f48c9a783f6',\n",
       " './datasets/spam/0383.5b89d5a9c0152070a77e133734f7cd83',\n",
       " './datasets/spam/0403.5aa6261d36d1362bcd181ed7738de7f7',\n",
       " './datasets/spam/0138.eab076de94bd9f1d19908f682e58031f',\n",
       " './datasets/spam/0385.8db8e827e6fec2fae5f7e407fe0e0ca3',\n",
       " './datasets/spam/0378.36f7856d38f84ffea7f1fd98044f756e',\n",
       " './datasets/spam/0124.37afd066a74d18b7f14bea0b1fb43d4d',\n",
       " './datasets/spam/0462.2cfe24a32d1b480eab70b099b4a8a919',\n",
       " './datasets/spam/0303.c18c1a0222b07f2b2250fbda5a961b7e',\n",
       " './datasets/spam/0489.013cd8eb1a0a545e5c6ed066bad0cad7',\n",
       " './datasets/spam/0184.a2109736d2f15cde3747a6f335c6f24c',\n",
       " './datasets/spam/0479.558d7491db4238443bc549ec06021bae',\n",
       " './datasets/spam/0216.feb2a8df9887bc2d84e80c9d2a8faf56',\n",
       " './datasets/spam/0286.68b939e20e5b9fd6839471f6e9bc07ed',\n",
       " './datasets/spam/0005.1f42bb885de0ef7fc5cd09d34dc2ba54',\n",
       " './datasets/spam/0409.09cb28cd8753bff06fc8a547c3ed8fe2',\n",
       " './datasets/spam/0093.2bb8a2a7e4d2841a14f27f32076dd77e',\n",
       " './datasets/spam/0060.140f80780520fa19b360ddcb05838a67',\n",
       " './datasets/spam/0379.5b1c7a295af5ccb0a58c5a41d5c5ad04',\n",
       " './datasets/spam/0182.0fe8b40b189a7bc1ec68b3df5125c602',\n",
       " './datasets/spam/0428.8fc153d0c9cbc406fbd9bdf1c4ed9b13',\n",
       " './datasets/spam/0006.7a32642f8c22bbeb85d6c3b5f3890a2c',\n",
       " './datasets/spam/0140.a2bb669eaf743ed123fca884a40cfbd4',\n",
       " './datasets/spam/0491.f47154f78397c57b14e05450a16745d5',\n",
       " './datasets/spam/0343.0630afbe4ee1ffd0db0ffb81c6de98de',\n",
       " './datasets/spam/0442.03f023d080136fd537ff369de5dcae10',\n",
       " './datasets/spam/0346.8c8e3c5107bf6bf30b940f79d598c1b9',\n",
       " './datasets/spam/0425.d7a3b1ae59479bc986057a03d057615d',\n",
       " './datasets/spam/0336.b864dd710e659f0ef5826dc4d80714f8',\n",
       " './datasets/spam/0062.41f708df91642411f0fd8f91e28d3521',\n",
       " './datasets/spam/0072.f97a14d667569ebbc0502bb2c7beec27',\n",
       " './datasets/spam/0207.3adcb1a14977a49cac8f6e10f64ac6f7',\n",
       " './datasets/spam/0181.e3259c0ef889b5c76054abe2fafddeda',\n",
       " './datasets/spam/0149.3300ef4537e1f6accd4489125bef5b0d',\n",
       " './datasets/spam/0068.1626952077798d4f2d5eb30e48bc49b3',\n",
       " './datasets/spam/0077.a5c41f056918bde0d5f9be424714766e',\n",
       " './datasets/spam/0195.8b276e08dd05b0131faa8fb24764f205',\n",
       " './datasets/spam/0015.1b871d654560011a0aaa29bb4e9054f7',\n",
       " './datasets/spam/0317.0bea188e5bd639ae421f07b3ad68c5e0',\n",
       " './datasets/spam/0183.4aaadeb40e3362e71e3e4aba15624e3a',\n",
       " './datasets/spam/0369.2530542de47d461ccb925fcafc6f0ad5',\n",
       " './datasets/spam/0033.489e59d3c7060b70e166ef7317c86807',\n",
       " './datasets/spam/0049.625bab436c7fc6299cfceeaa24e198ae',\n",
       " './datasets/spam/0135.73d44c9405f00110ae76a3addcb4eed6',\n",
       " './datasets/spam/0484.cd802b94da9c80db5e4432bb661effd1',\n",
       " './datasets/spam/0316.018282fecc304f005e952d7c5c181dad',\n",
       " './datasets/spam/0465.5d27c24cf1797e87a346c02f9bc42587',\n",
       " './datasets/spam/0293.ef3561f8707f7fcd1de291d4c2ae9609',\n",
       " './datasets/spam/0029.2b149de91fef9f40880d27ce8c27aeb2',\n",
       " './datasets/spam/0460.532703440c6f7df067d1ba5054da7f11',\n",
       " './datasets/spam/0189.3d89383221aa3fb155a099838ce9c40a',\n",
       " './datasets/spam/0481.77b1644dfd682bf753d5894ad04f8020',\n",
       " './datasets/spam/0488.6d41f6d7222978a3ee2b6cfbfce55a02',\n",
       " './datasets/spam/0490.5fc0d6e9adcaf702bb7dd303ff2d59e2',\n",
       " './datasets/spam/0271.24302cf2e759401d1f9975fe4fc1def9',\n",
       " './datasets/spam/0492.f2d030fd71d7c3075626195b5c0b56f7',\n",
       " './datasets/spam/0105.9790e1c57fcbf7885b7cd1719fb4681b',\n",
       " './datasets/spam/0338.033c0109da096486c7d797cccd2c3198',\n",
       " './datasets/spam/0466.11bc31540055c320b62e5886ef27c4b2',\n",
       " './datasets/spam/0337.4e2d92485e5b880d494821c1fcee790a',\n",
       " './datasets/spam/0043.8d93819b95ff90bf2e2b141c2909bfc9',\n",
       " './datasets/spam/0268.1aee52bc302bf1d5c2030229b5dbd63e',\n",
       " './datasets/spam/0306.521d917ac6509c499c406647fd0d336b',\n",
       " './datasets/spam/0088.f421d8c380fb0c48483f026d243df9d9',\n",
       " './datasets/spam/0354.457f41d0d6af931597b5137a061cde62',\n",
       " './datasets/spam/0344.8bbe5c7c8269a039761968a1b10a936a',\n",
       " './datasets/spam/0281.7e8c08897b61b9b008238efec9ca8d15',\n",
       " './datasets/spam/0168.70400165faa695abca4a96241d393f34',\n",
       " './datasets/spam/0192.2d3e74aaf18c1c4193067f025e757507',\n",
       " './datasets/spam/0339.873b4fc31bb79ebea51fdea5cde75b3c',\n",
       " './datasets/spam/0370.6caa3885378bbaf0856bd9712629ab51',\n",
       " './datasets/spam/0097.dce08392ba6bc552d13394fa73974b62',\n",
       " './datasets/spam/0032.081c3615bc9b91d09b6cbb9239ba8c99',\n",
       " './datasets/spam/0046.0b4fff9cd7cffe94cc4f04bbf3928c28',\n",
       " './datasets/spam/0003.4b3d943b8df71af248d12f8b2e7a224a',\n",
       " './datasets/spam/0251.d542591a25f8fe8c4accd692113a0554',\n",
       " './datasets/spam/0002.24b47bb3ce90708ae29d0aec1da08610',\n",
       " './datasets/spam/0261.93d7dab5dc0c469b58aa9b0e5e25bb25',\n",
       " './datasets/spam/0310.23036f6ae05720b052b73117b6ecb957',\n",
       " './datasets/spam/0191.cd23170803a4680d6dbd798a4cd1e5dd',\n",
       " './datasets/spam/0397.c02eba1386b00d640c954e5117dd1aa0',\n",
       " './datasets/spam/0395.bb934e8b4c39d5eab38f828a26f760b4',\n",
       " './datasets/spam/0247.aee6d7984b3dab9a6b0eed524e7a3686',\n",
       " './datasets/spam/0128.4da9b2cfacbe9bfd128aacbb526d68d4',\n",
       " './datasets/spam/0065.18d2edcf9aa0e940651b5fdd218ac019',\n",
       " './datasets/spam/0215.57c4f4d8e2f582088f8aca38239059f7',\n",
       " './datasets/spam/0455.b7a7254a180821d6077a42f7153e12e5',\n",
       " './datasets/spam/0357.6ca4760de43f3d29316cf6bb0cab6bf5',\n",
       " './datasets/spam/0361.eb828b44c428fcecd4e95e8799a9ee11',\n",
       " './datasets/spam/0368.3a53888c2f7fbe52a7293f223375c245',\n",
       " './datasets/spam/0117.33011fddf61efe5f453a14468ff7e629',\n",
       " './datasets/spam/0053.92bcea73123d0ea0fb26c285d5e045a9',\n",
       " './datasets/spam/0238.7d0de37650a0c0e2d99e52eef4042602',\n",
       " './datasets/spam/0162.261bb4a36b195f96fcc7da4038b898a3',\n",
       " './datasets/spam/0414.4b85e87c5b9235c72f189bf044057f15',\n",
       " './datasets/spam/0248.b639977f45a5b1e39b5aa3c4abc2edf6',\n",
       " './datasets/spam/0298.804507b6d4d03a86e53c63249fe70772',\n",
       " './datasets/spam/0285.b44ae825681c0f28db2e742ab790b191',\n",
       " './datasets/spam/0096.b2cb600e893f7a663ea5f9bff3a6276e',\n",
       " './datasets/spam/0364.8e5f3385c2deb2c0c32794b403851ec4',\n",
       " './datasets/spam/0326.80f15e07265a22b78068bab5b56b01c7',\n",
       " './datasets/spam/0450.a828f09ee44e716e6931866e4743e32a',\n",
       " './datasets/spam/0432.a2fa136962969f603b363e7509668b49',\n",
       " './datasets/spam/0350.0f2ef01282cb99a4eeb9a19923597b3f',\n",
       " './datasets/spam/0019.939e70d8367f315193e4bc5be80dc262',\n",
       " './datasets/spam/0169.bc6e1356af0602fb96dd3f721fb17c48',\n",
       " './datasets/spam/0458.8c9d2363547ebaf997282910cf21e95c',\n",
       " './datasets/spam/0087.1cbd88a0c1564cb5d6c9b12c8c4175d8',\n",
       " './datasets/spam/0125.44381546181fc6c5d7ea59e917f232c5',\n",
       " './datasets/spam/0486.348918a564335556b4fdd8b82f939918',\n",
       " './datasets/spam/0473.ab22ff7eb6975783dff18f279a1a8357',\n",
       " './datasets/spam/0052.f12ac251d1fbdc679daadc6b97229e63',\n",
       " './datasets/spam/0322.77dd826a00ebd4b54a6036394d41da55',\n",
       " './datasets/spam/0348.e0b89978fa806cf3e7fd3ba0869b3c65',\n",
       " './datasets/spam/0254.02daa37a4255a78f2f224f3cd2f8fa99',\n",
       " './datasets/spam/0448.809b59ce6292db666ef457e3cb08bb39',\n",
       " './datasets/spam/0255.42a6feb4435a0a68929075c0926f085d',\n",
       " './datasets/spam/0075.4568998f41d50bccf8f7c3d4aeb7a425',\n",
       " './datasets/spam/0126.713b324e028cc69213e67ad3d7319f5d',\n",
       " './datasets/spam/0166.a2e4d6ec3078b619ca38927ca69fc94d',\n",
       " './datasets/spam/0018.259154a52bc55dcae491cfded60a5cd2',\n",
       " './datasets/spam/0399.b9eab4251d9263129290cf7fc2aa4c7a',\n",
       " './datasets/spam/0107.f1d4194b57840ea6587b9a73ed88e075',\n",
       " './datasets/spam/0437.b2ad4f589c9ca2ef65432465a12915b4',\n",
       " './datasets/spam/0485.9021367278833179285091e5201f5854',\n",
       " './datasets/spam/0257.554324ab4a8f7093f5222303a4c59a8b',\n",
       " './datasets/spam/0299.9d0b292172cb787eb2ed9e8855222edd',\n",
       " './datasets/spam/0051.374f4d4300a5d39544b2f052e7a9429d',\n",
       " './datasets/spam/0104.886f4a22362f4d3528c3e675878f17f7',\n",
       " './datasets/spam/0445.2cd5092859b75fdccf3724ab2a4ccafe',\n",
       " './datasets/spam/0009.c05e264fbf18783099b53dbc9a9aacda',\n",
       " './datasets/spam/0036.8e582263070076dfe6000411d9b13ce6',\n",
       " './datasets/spam/0157.3f95804da86ee79dbb076c47ed29984c',\n",
       " './datasets/spam/0402.1290489e7e62ac9bb500677606540e5d',\n",
       " './datasets/spam/0185.9f02f77f7f5a2724c109f598b2245675',\n",
       " './datasets/spam/0112.ec411d26d1f4decc16af7ef73e69a227',\n",
       " './datasets/spam/0290.13035c75be0d5b447a10e2263f8c1361',\n",
       " './datasets/spam/0234.1594b3a348279e71c8b769db9aa96b5b',\n",
       " './datasets/spam/0021.15185fdb3fb02dffd041fa8f70d19791',\n",
       " './datasets/spam/0079.4a5fbaf2e531918c44642b3cfae40089',\n",
       " './datasets/spam/0025.97302502dc8e20ab7e7eb05f926e1bab',\n",
       " './datasets/spam/0295.717c906cda92746007b9098e16c727b2',\n",
       " './datasets/spam/0059.a633106e3ce62fa7b46c2e4dc8c666d3',\n",
       " './datasets/spam/0127.2923761a91d13d3522d8bd077eedc7b7',\n",
       " './datasets/spam/0278.229f1cdd03eb4e6ff86e9fd29551f577',\n",
       " './datasets/spam/0416.112b010a30255d7d14ee9465d4fe804c',\n",
       " './datasets/spam/0427.8136588f1befaccc01f0405513be6186',\n",
       " './datasets/spam/0031.e68d1195ad2c1900a44de8631f8acd91',\n",
       " './datasets/spam/0494.a0865131f55d26362a8efad99c37de01',\n",
       " './datasets/spam/0224.486269968d3ad880a016b600dc366393',\n",
       " './datasets/spam/0074.9948514a1f3aac3f27ba2c20db7b0441',\n",
       " './datasets/spam/0280.2507969221ea95a019506366f6c361d8',\n",
       " './datasets/spam/0226.409b6577c79d85773d50cb37fde4ba79',\n",
       " './datasets/spam/0304.88cf1d3ce0e138fd9ffb801e675f69b3',\n",
       " './datasets/spam/0438.77cb3de3ddbb68012f0dbe370c4e71dc',\n",
       " './datasets/spam/0415.e241b6184464107168656739bf96c6b9',\n",
       " './datasets/spam/0349.d87df6b95f0ee4e36364e9d71223485a',\n",
       " './datasets/spam/0389.ed4ca8aceef91808c783909351c7bdb4',\n",
       " './datasets/spam/0362.d605ea00a259c1245d6e21ecf38264cf',\n",
       " './datasets/spam/0331.1de50a02d91a4e0c6daf5e2cc28a60c6',\n",
       " './datasets/spam/0028.83a43dd97923463030349506a56226c1',\n",
       " './datasets/spam/0030.5d3444135a8ad95fc4ebf9a884076621',\n",
       " './datasets/spam/0190.c861662876d77491e0dc0e95fb3767cd',\n",
       " './datasets/spam/0134.83a63d7a1589ba4cd6aefe20c8e6385f',\n",
       " './datasets/spam/0463.47a4c19eea5230ff19a42e62a5f59484',\n",
       " './datasets/spam/0186.e739e1c9fdc0702762d3583b26b401eb',\n",
       " './datasets/spam/0283.04856c4a6fa4393e976c5aaa2c0533d5',\n",
       " './datasets/spam/0073.d57c16429fa19fbebfb9aec34f391aa2',\n",
       " './datasets/spam/0012.7bc8e619ad0264979edce15083e70a02',\n",
       " './datasets/spam/0375.ad5939ae436ed745d5222893d5ffe191',\n",
       " './datasets/spam/0137.42d5881a50744e24d9280701bb534cfb',\n",
       " './datasets/spam/0187.e2178f6d01a70dfbdf9c84c4dcaf58dc',\n",
       " './datasets/spam/0167.1665f2336b63debb3463fcf4d37e8485',\n",
       " './datasets/spam/0367.c6d1767b20048ef840cf83f8fb2cff68',\n",
       " './datasets/spam/0086.4b3a02be9a2561ada188d95b4601c01e',\n",
       " './datasets/spam/0178.bf2ab7492e5080b07d7397b0662821a7',\n",
       " './datasets/spam/0439.2c6d4d3e8b817c5315a1c61e4eeb7ee9',\n",
       " './datasets/spam/0371.e4ca4edd7d69a9b54cac7f364f5f2079',\n",
       " './datasets/spam/0123.68e87f8b736959b1ab5c4b5f2ce7484a',\n",
       " './datasets/spam/0469.c1d9ab5918d50dac4242ef53c4aaf678',\n",
       " './datasets/spam/0045.75baa6797e2a65053a8373d5aa96f594',\n",
       " './datasets/spam/0136.7e7d6adf293fa0a3dc56b3f796cf00d1',\n",
       " './datasets/spam/0017.49ab70c7a4042cb1c695a0e59a6ede54',\n",
       " './datasets/spam/0177.d62ac309d8030ef816f7831c3d5d3f7d',\n",
       " './datasets/spam/0076.770f0e7b8378a47a945043434f6f43df',\n",
       " './datasets/spam/0040.256602e2cb5a5b373bdd1fb631d9f452',\n",
       " './datasets/spam/0054.839a9c0a07f13718570da944986a898a',\n",
       " './datasets/spam/0434.e86d28a69c9228080a3f0ecbde5ea5fa',\n",
       " './datasets/spam/0443.c5581d58a801553fee57b2bfe904ea93',\n",
       " './datasets/spam/0269.5b147e2f10b02f4a478036a0b495323e',\n",
       " './datasets/spam/0048.462325dc69a8dc74462723ec0d20a5cd',\n",
       " './datasets/spam/0022.4b5cf3c16feb88dd6932a8c46a41946c',\n",
       " './datasets/spam/0008.9562918b57e044abfbce260cc875acde',\n",
       " './datasets/spam/0325.78b93ee9713b6594d03c86993286e6c5',\n",
       " './datasets/spam/0212.9a9f009a6d601e2e34c1b95353983352',\n",
       " './datasets/spam/0252.c90694cf3f09ef0111b761eefd95cc3f',\n",
       " './datasets/spam/0165.6eedc001155da3cbd75a60eba2b19448',\n",
       " './datasets/spam/0220.15583875f5ef9e2cf6450ebc821f0dff',\n",
       " './datasets/spam/0351.517e785af43ffb3f9e66ab25b3ab162c',\n",
       " './datasets/spam/0100.c60d1c697136b07c947fa180ba3e0441',\n",
       " './datasets/spam/0194.dd4dd86bdd8e1113889af9afaf299d6c',\n",
       " './datasets/spam/0328.cccf842e57907e25d1584cad03f8d2cb',\n",
       " './datasets/spam/0498.863566df8e5f17f979edca79d1e87187',\n",
       " './datasets/spam/0208.a2968a374034368d849b6ed12bdedd37',\n",
       " './datasets/spam/0265.1120a7d868b23e83b91ad00ec8b79e08',\n",
       " './datasets/spam/0394.9c882c72ddfd810b56776fdaa1c727a6',\n",
       " './datasets/spam/0114.c104ada3a249e1e1846c0cd156a303e9',\n",
       " './datasets/spam/0340.8e191c37e2d30a639013203aacf60086',\n",
       " './datasets/spam/0116.8e13644b995f98dbab198b71e26f67ec',\n",
       " './datasets/spam/0296.c9b10ba5ae2e480e37a6e2e1455671eb',\n",
       " './datasets/spam/0274.85756abb8d0bcfe267e464a2f33ce686',\n",
       " './datasets/spam/0440.16a3caff5b5788f2ae378850041252d7',\n",
       " './datasets/spam/0133.95454d70cc62190c0e167d4c3cb591af',\n",
       " './datasets/spam/0229.2c64df059013c03812139543389a836b',\n",
       " './datasets/spam/0213.5f17fdf863726d4704840f86f698d10b',\n",
       " './datasets/spam/0151.6f8f0ec4d897a5285d662ef4ec31d924',\n",
       " './datasets/spam/0454.943161603b1eb6da5187194b5a75186a',\n",
       " './datasets/spam/0044.889d785885f092c269741b11f2124dce',\n",
       " './datasets/spam/0292.3e12964912377bd9b52d223e37812e56',\n",
       " './datasets/spam/0080.77af9ca7f967f055062aade45001129e',\n",
       " './datasets/spam/0291.65fa7c79bc3a75c50655cb044011c50a']"
      ]
     },
     "execution_count": 2,
     "metadata": {},
     "output_type": "execute_result"
    }
   ],
   "source": [
    "\n",
    "\n",
    "# NOTE: Ensure base_dir points to the base directory where you extracted your data files!\n",
    "#   Inside this directory should be three folders -- easy_ham, hard_ham, and spam.\n",
    "\n",
    "base_dir = './datasets'\n",
    "easy_ham_files = glob.glob(base_dir + \"/easy_ham/*\")\n",
    "hard_ham_files = glob.glob(base_dir + \"/hard_ham/*\")\n",
    "spam_files = glob.glob(base_dir + \"/spam/*\")\n",
    "spam_files\n",
    "\n"
   ]
  },
  {
   "cell_type": "code",
   "execution_count": 3,
   "metadata": {},
   "outputs": [
    {
     "name": "stdout",
     "output_type": "stream",
     "text": [
      "From Steve_Burt@cursor-system.com  Wed Aug 28 10:55:32 2002\n",
      "Return-Path: <Steve_Burt@cursor-system.com>\n",
      "Delivered-To: zzzz@localhost.netnoteinc.com\n",
      "Received: from localhost (localhost [127.0.0.1])\n",
      "\tby phobos.labs.netnoteinc.com (Postfix) with ESMTP id 876C943F99\n",
      "\tfor <zzzz@localhost>; Wed, 28 Aug 2002 05:55:27 -0400 (EDT)\n",
      "Received: from phobos [127.0.0.1]\n",
      "\tby localhost with IMAP (fetchmail-5.9.0)\n",
      "\tfor zzzz@localhost (single-drop); Wed, 28 Aug 2002 10:55:27 +0100 (IST)\n",
      "Received: from n17.grp.scd.yahoo.com (n17.grp.scd.yahoo.com\n",
      "    [66.218.66.72]) by dogma.slashnull.org (8.11.6/8.11.6) with SMTP id\n",
      "    g7S9gNZ18555 for <zzzz@example.com>; Wed, 28 Aug 2002 10:42:23 +0100\n",
      "X-Egroups-Return: sentto-2242572-53141-1030527749-zzzz=example.com@returns.groups.yahoo.com\n",
      "Received: from [66.218.67.193] by n17.grp.scd.yahoo.com with NNFMP;\n",
      "    28 Aug 2002 09:42:29 -0000\n",
      "X-Sender: steve.burt@cursor-system.com\n",
      "X-Apparently-To: zzzzteana@yahoogroups.com\n",
      "Received: (EGP: mail-8_1_0_1); 28 Aug 2002 09:42:28 -0000\n",
      "Received: (qmail 83424 invoked from network); 28 Aug 2002 09:42:27 -0000\n",
      "Received: from unknown (66.218.66.217) by m11.grp.scd.yahoo.com with QMQP;\n",
      "    28 Aug 2002 09:42:27 -0000\n",
      "Received: from unknown (HELO mailgateway.cursor-system.com) (62.189.7.27)\n",
      "    by mta2.grp.scd.yahoo.com with SMTP; 28 Aug 2002 09:42:27 -0000\n",
      "Received: from exchange1.cps.local (unverified) by\n",
      "    mailgateway.cursor-system.com (Content Technologies SMTPRS 4.2.10) with\n",
      "    ESMTP id <T5cfcde4e3fac1d1004129@mailgateway.cursor-system.com> for\n",
      "    <forteana@yahoogroups.com>; Wed, 28 Aug 2002 10:43:38 +0100\n",
      "Received: by exchange1.cps.local with Internet Mail Service (5.5.2653.19)\n",
      "    id <PXX6AZC6>; Wed, 28 Aug 2002 10:42:26 +0100\n",
      "Message-Id: <5EC2AD6D2314D14FB64BDA287D25D9EF12B50F@exchange1.cps.local>\n",
      "To: \"'zzzzteana@yahoogroups.com'\" <zzzzteana@yahoogroups.com>\n",
      "X-Mailer: Internet Mail Service (5.5.2653.19)\n",
      "X-Egroups-From: Steve Burt <steve.burt@cursor-system.com>\n",
      "From: Steve Burt <Steve_Burt@cursor-system.com>\n",
      "X-Yahoo-Profile: pyruse\n",
      "MIME-Version: 1.0\n",
      "Mailing-List: list zzzzteana@yahoogroups.com; contact\n",
      "    forteana-owner@yahoogroups.com\n",
      "Delivered-To: mailing list zzzzteana@yahoogroups.com\n",
      "Precedence: bulk\n",
      "List-Unsubscribe: <mailto:zzzzteana-unsubscribe@yahoogroups.com>\n",
      "Date: Wed, 28 Aug 2002 10:42:25 +0100\n",
      "Subject: RE: [zzzzteana] Digest Number 2453\n",
      "Reply-To: zzzzteana@yahoogroups.com\n",
      "Content-Type: text/plain; charset=US-ASCII\n",
      "Content-Transfer-Encoding: 7bit\n",
      "\n",
      ">JUST as the pyramids of Egypt were built in honour of great kings, it was\n",
      ">fitting that sandy replicas were created on Weymouth beach in memory of the\n",
      ">king of the castle. Fred Darrington, who became the world's most famous\n",
      "sand\n",
      ">sculptor, died last week aged 91. His grandson, Mark Anderson, who has\n",
      "taken\n",
      ">over his Dorset seafront pitch, is determined that his grandfather's name\n",
      "will\n",
      ">not be forgotten, despite the impermanence of his creations.\n",
      "\n",
      "Can someone please tell me what a \"pitch\" constitutes? I have an idea \n",
      "it is somewhat like the spots street musicians claim, but this sounds \n",
      "more formal.\n",
      "------------------\n",
      "Just an area of the beach by the prom where he's allowed to make his\n",
      "sculptures.\n",
      "Weymouth is where I spent my teenage years. My mum and one sister still live\n",
      "there.\n",
      "So I'm pretty familiar with the sculptures; pretty impressive, and very big.\n",
      "(I think he uses some sort of armature for some bits - it's not just sand)\n",
      "They usually get vandalised, though; after a lot of drinks, it obviously is\n",
      "a good idea to break into the enclosure and kick all the sculptures to bits.\n",
      "Then again, Weymouth is pretty run down, and attracts holiday makers of the\n",
      "worst sort.\n",
      "\n",
      "------------------------ Yahoo! Groups Sponsor ---------------------~-->\n",
      "4 DVDs Free +s&p Join Now\n",
      "http://us.click.yahoo.com/pt6YBB/NXiEAA/MVfIAA/7gSolB/TM\n",
      "---------------------------------------------------------------------~->\n",
      "\n",
      "To unsubscribe from this group, send an email to:\n",
      "forteana-unsubscribe@egroups.com\n",
      "\n",
      " \n",
      "\n",
      "Your use of Yahoo! Groups is subject to http://docs.yahoo.com/info/terms/ \n",
      "\n",
      "\n",
      "\n",
      "\n"
     ]
    }
   ],
   "source": [
    "\n",
    "\n",
    "# use io's open function, which supports the encoding parameter\n",
    "from io import open\n",
    "\n",
    "# Create list of full-text of all ham and spam emails\n",
    "\n",
    "# read the easy ham files into a list\n",
    "easy_ham_text = []\n",
    "for filename in easy_ham_files:\n",
    "    with open(filename, 'r', encoding='iso-8859-15') as f:\n",
    "        easy_ham_text.append(f.read())\n",
    "\n",
    "# read the easy ham files into a list\n",
    "hard_ham_text = []\n",
    "for filename in hard_ham_files:\n",
    "    with open(filename, 'r', encoding='iso-8859-15') as f:\n",
    "        hard_ham_text.append(f.read())\n",
    "\n",
    "# read the spam files into a list\n",
    "spam_text = []\n",
    "for filename in spam_files:\n",
    "    with open(filename, 'r', encoding='iso-8859-15') as f:\n",
    "        spam_text.append(f.read())\n",
    "\n",
    "print(easy_ham_text[0])\n",
    "\n"
   ]
  },
  {
   "cell_type": "code",
   "execution_count": 4,
   "metadata": {},
   "outputs": [],
   "source": [
    "# Let's merge all of the emails into a single list of emails -- this is our data!\n",
    "ham_and_spam_text = easy_ham_text + spam_text    # extends the lists"
   ]
  },
  {
   "cell_type": "code",
   "execution_count": 5,
   "metadata": {},
   "outputs": [
    {
     "name": "stdout",
     "output_type": "stream",
     "text": [
      "467\n",
      "2374\n",
      "2841\n"
     ]
    }
   ],
   "source": [
    "\n",
    "\n",
    "# How imbalanced is our dataset?\n",
    "\n",
    "print(len(spam_text))\n",
    "print(len(easy_ham_text))\n",
    "print(len(ham_and_spam_text))\n",
    "\n"
   ]
  },
  {
   "cell_type": "markdown",
   "metadata": {},
   "source": [
    "### 2. Label the data\n",
    "\n",
    "We now have `ham_and_spam_text`, a single list containing our emails. However, now we need this data to be labeled with what we will predict. In this case, we will make a list of 0s and 1s indicating whether each of these emails is ham (0) or spam (1). Can you make this list, given how we combined the spam and ham into one list above?"
   ]
  },
  {
   "cell_type": "code",
   "execution_count": 6,
   "metadata": {},
   "outputs": [
    {
     "data": {
      "text/plain": [
       "array([0, 0, 0, ..., 1, 1, 1])"
      ]
     },
     "execution_count": 6,
     "metadata": {},
     "output_type": "execute_result"
    }
   ],
   "source": [
    "\n",
    "\n",
    "y = np.array([0] * len(easy_ham_text) + [1] * len(spam_text))\n",
    "y\n",
    "\n"
   ]
  },
  {
   "cell_type": "markdown",
   "metadata": {},
   "source": [
    "### 3. Transform the emails into features\n",
    " \n",
    "We will be using cross validation later to assess performance, so feel free to fit it on the entire dataset for now."
   ]
  },
  {
   "cell_type": "markdown",
   "metadata": {},
   "source": [
    "#### 3.A. Fit the model on your data using `CountVectorizer`\n",
    "\n",
    "Using `CountVectorizer` ONLY, transform each email into features. Consider now or later removing stopwords, trying different ngram sizes, making all words lowercase, and/or creating your own features (e.g. presence of an unsubscribe link!). "
   ]
  },
  {
   "cell_type": "code",
   "execution_count": 7,
   "metadata": {},
   "outputs": [],
   "source": [
    "from nltk.stem.porter import PorterStemmer\n",
    "\n",
    "stemmer = PorterStemmer()\n",
    "analyzer = CountVectorizer().build_analyzer()\n",
    "\n",
    "\n",
    "def stemmed_words(doc):\n",
    "    return (stemmer.stem(w) for w in analyzer(doc))"
   ]
  },
  {
   "cell_type": "code",
   "execution_count": 8,
   "metadata": {},
   "outputs": [
    {
     "data": {
      "text/plain": [
       "CountVectorizer(analyzer=<function stemmed_words at 0x7f505d7c46a8>,\n",
       "                binary=False, decode_error='ignore',\n",
       "                dtype=<class 'numpy.int64'>, encoding='utf-8', input='content',\n",
       "                lowercase=True, max_df=1.0, max_features=None, min_df=1,\n",
       "                ngram_range=(1, 1), preprocessor=None, stop_words='english',\n",
       "                strip_accents=None, token_pattern='(?u)\\\\b\\\\w\\\\w+\\\\b',\n",
       "                tokenizer=None, vocabulary=None)"
      ]
     },
     "execution_count": 8,
     "metadata": {},
     "output_type": "execute_result"
    }
   ],
   "source": [
    "\n",
    "\n",
    "vect = CountVectorizer(stop_words='english',\n",
    "                       decode_error='ignore',\n",
    "                       analyzer=stemmed_words)\n",
    "vect.fit(ham_and_spam_text)\n",
    "\n"
   ]
  },
  {
   "cell_type": "markdown",
   "metadata": {},
   "source": [
    "#### 3.B. Transform the data"
   ]
  },
  {
   "cell_type": "code",
   "execution_count": 9,
   "metadata": {},
   "outputs": [
    {
     "data": {
      "text/plain": [
       "'2002'"
      ]
     },
     "execution_count": 9,
     "metadata": {},
     "output_type": "execute_result"
    }
   ],
   "source": [
    "words = vect.get_feature_names()\n",
    "words[6738]\n"
   ]
  },
  {
   "cell_type": "code",
   "execution_count": 10,
   "metadata": {},
   "outputs": [
    {
     "data": {
      "text/plain": [
       "<2841x69130 sparse matrix of type '<class 'numpy.int64'>'\n",
       "\twith 700108 stored elements in Compressed Sparse Row format>"
      ]
     },
     "execution_count": 10,
     "metadata": {},
     "output_type": "execute_result"
    }
   ],
   "source": [
    "#be patient, it will take a while\n",
    "\n",
    "train_X = vect.transform(ham_and_spam_text)\n",
    "train_X\n",
    "\n"
   ]
  },
  {
   "cell_type": "markdown",
   "metadata": {},
   "source": [
    "#### 3.C. Create a sparse matrix for scikit-learn\n",
    "\n",
    "Create a dense 2-D ndarray `X` from the sparse matrix. Make a 1-D ndarray `y` (the list of labels you created earlier)."
   ]
  },
  {
   "cell_type": "code",
   "execution_count": 11,
   "metadata": {},
   "outputs": [
    {
     "name": "stdout",
     "output_type": "stream",
     "text": [
      "(2841, 69130)\n"
     ]
    },
    {
     "data": {
      "text/plain": [
       "(2841,)"
      ]
     },
     "execution_count": 11,
     "metadata": {},
     "output_type": "execute_result"
    }
   ],
   "source": [
    "X = train_X.toarray()  \n",
    "print(X.shape)\n",
    "\n",
    "y = np.array([0] * len(easy_ham_text) + [1] * len(spam_text))\n",
    "y.shape"
   ]
  },
  {
   "cell_type": "markdown",
   "metadata": {},
   "source": [
    "### 4. Understand and visualize your features\n",
    "\n",
    "Sometimes you may find it difficult to visualize text data. This section provides some exercises that give you insight into how you may modify your text features for improved performance.\n",
    "\n",
    "#### 4.A. Understand sparse matrices and the transform\n",
    "\n",
    "**For email index 1, print(a list of words and counts, sorted by descending count.** Use only the `train_X` sparse matrix along with the `get_feature_names()` method of your vectorizer. The index of each column in `train_X` refers to a word. That word is given by the element at that same index in `get_feature_names()`!"
   ]
  },
  {
   "cell_type": "code",
   "execution_count": 12,
   "metadata": {},
   "outputs": [
    {
     "data": {
      "text/plain": [
       "matrix([[0, 0, 5, ..., 0, 0, 0]])"
      ]
     },
     "execution_count": 12,
     "metadata": {},
     "output_type": "execute_result"
    }
   ],
   "source": [
    "train_X[0].todense()"
   ]
  },
  {
   "cell_type": "code",
   "execution_count": 13,
   "metadata": {},
   "outputs": [],
   "source": [
    "bag = sorted(list(zip(train_X[0].indices, train_X[0].data)),\n",
    "       key=lambda x: -x[1])"
   ]
  },
  {
   "cell_type": "code",
   "execution_count": 14,
   "metadata": {},
   "outputs": [
    {
     "data": {
      "text/plain": [
       "[(26175, 30), (8832, 13), (6738, 12), (21178, 12), (33638, 12)]"
      ]
     },
     "execution_count": 14,
     "metadata": {},
     "output_type": "execute_result"
    }
   ],
   "source": [
    "bag[:5]"
   ]
  },
  {
   "cell_type": "code",
   "execution_count": 15,
   "metadata": {},
   "outputs": [
    {
     "data": {
      "text/plain": [
       "[('com', 30), ('28', 13), ('2002', 12), ('aug', 12), ('from', 12)]"
      ]
     },
     "execution_count": 15,
     "metadata": {},
     "output_type": "execute_result"
    }
   ],
   "source": [
    "train_X[0].indices   \n",
    "train_X[0].data      \n",
    "[(words[index], freq) for index, freq in bag][:5]"
   ]
  },
  {
   "cell_type": "markdown",
   "metadata": {},
   "source": [
    "- Notice that the most common words in the email are garbage words from the email header! \n",
    "- You can likely improve your model by filtering these in some way."
   ]
  },
  {
   "cell_type": "markdown",
   "metadata": {},
   "source": [
    "#### 4.B. Using a histogram, visualize the number of emails each word is in.\n",
    "\n",
    "What distribution is it? From this histogram, will most words in your model be noise or signal? Seeing this histogram, what can you likely do to improve your model? (Hint: To quickly graph this, use `np.sum` on the dense matrix `X` of word counts!)"
   ]
  },
  {
   "cell_type": "code",
   "execution_count": 16,
   "metadata": {},
   "outputs": [
    {
     "data": {
      "text/plain": [
       "[(1, 41079), (2, 11331), (3, 3300), (4, 2450), (5, 1275)]"
      ]
     },
     "execution_count": 16,
     "metadata": {},
     "output_type": "execute_result"
    }
   ],
   "source": [
    "import collections\n",
    "\n",
    "c_ = collections.Counter(np.sum(X, axis=0))\n",
    "c_.most_common(5)"
   ]
  },
  {
   "cell_type": "code",
   "execution_count": 17,
   "metadata": {},
   "outputs": [
    {
     "data": {
      "text/plain": [
       "Text(0.5, 1.0, 'Number of Emails containing each Word')"
      ]
     },
     "execution_count": 17,
     "metadata": {},
     "output_type": "execute_result"
    },
    {
     "data": {
      "image/png": "[encoded data removed]",
      "text/plain": [
       "<Figure size 432x288 with 1 Axes>"
      ]
     },
     "metadata": {
      "needs_background": "light"
     },
     "output_type": "display_data"
    }
   ],
   "source": [
    "emails_per_word = np.sum(X, axis=0)\n",
    "\n",
    "plt.hist(emails_per_word, bins=100, range=(0, 15))\n",
    "\n",
    "plt.xlabel('Number of Emails Containing a Word')\n",
    "plt.ylabel('Number of Words')\n",
    "plt.title('Number of Emails containing each Word')"
   ]
  },
  {
   "cell_type": "markdown",
   "metadata": {},
   "source": [
    "#### 4.C. Using a histogram, visualize the number of words each email contains.\n",
    "\n",
    "What is the distribution? Are there any outlier emails? Can you find an explanation why there is there likely a spike in the histogram (e.g. are the emails in this dataset of a particular type?) \n",
    "\n",
    "- Plot the distribution of number of words for spam emails on top of the distribution for ham emails! Would this be a useful additional feature?"
   ]
  },
  {
   "cell_type": "code",
   "execution_count": 18,
   "metadata": {},
   "outputs": [
    {
     "data": {
      "text/plain": [
       "Text(0.5, 1.0, 'Number of Words per Email')"
      ]
     },
     "execution_count": 18,
     "metadata": {},
     "output_type": "execute_result"
    },
    {
     "data": {
      "image/png": "[encoded data removed]",
      "text/plain": [
       "<Figure size 432x288 with 1 Axes>"
      ]
     },
     "metadata": {
      "needs_background": "light"
     },
     "output_type": "display_data"
    }
   ],
   "source": [
    "\n",
    "\n",
    "words_per_email = np.sum(X, axis=1)\n",
    "\n",
    "plt.hist(words_per_email, bins=100, range=(0, 1000))\n",
    "plt.xlabel('Number of Words in Email')\n",
    "plt.ylabel('Number of Emails')\n",
    "plt.title('Number of Words per Email')\n",
    "\n"
   ]
  },
  {
   "cell_type": "code",
   "execution_count": 19,
   "metadata": {},
   "outputs": [
    {
     "data": {
      "text/plain": [
       "Text(0.5, 1.0, 'Number of Words per Email')"
      ]
     },
     "execution_count": 19,
     "metadata": {},
     "output_type": "execute_result"
    },
    {
     "data": {
      "image/png": "[encoded data removed]",
      "text/plain": [
       "<Figure size 432x288 with 1 Axes>"
      ]
     },
     "metadata": {
      "needs_background": "light"
     },
     "output_type": "display_data"
    }
   ],
   "source": [
    "\n",
    "\n",
    "plt.hist(words_per_email[:len(easy_ham_text)], bins=100, range=(0, 1000));\n",
    "plt.hist(words_per_email[len(easy_ham_text):], bins=100, range=(0, 1000));\n",
    "\n",
    "plt.legend(['Ham', 'Spam'])\n",
    "plt.xlabel('Number of Words in Email')\n",
    "plt.ylabel('Number of Emails')\n",
    "plt.title('Number of Words per Email')\n",
    "\n"
   ]
  },
  {
   "cell_type": "markdown",
   "metadata": {},
   "source": [
    "### 5. Estimate generalization accuracy\n",
    "\n",
    "Use `cross_val_score` with the models `BernoulliNB` and `MultinomialNB` to assess how well these models classify emails. Can you guess why one may perform better than the other?"
   ]
  },
  {
   "cell_type": "code",
   "execution_count": 20,
   "metadata": {},
   "outputs": [
    {
     "name": "stderr",
     "output_type": "stream",
     "text": [
      "/home/hythm/anaconda3/lib/python3.7/site-packages/sklearn/model_selection/_split.py:1978: FutureWarning: The default value of cv will change from 3 to 5 in version 0.22. Specify it explicitly to silence this warning.\n",
      "  warnings.warn(CV_WARNING, FutureWarning)\n"
     ]
    },
    {
     "name": "stdout",
     "output_type": "stream",
     "text": [
      "Bernoulli:  [0.90506329 0.9250264  0.90274841]\n"
     ]
    },
    {
     "name": "stderr",
     "output_type": "stream",
     "text": [
      "/home/hythm/anaconda3/lib/python3.7/site-packages/sklearn/model_selection/_split.py:1978: FutureWarning: The default value of cv will change from 3 to 5 in version 0.22. Specify it explicitly to silence this warning.\n",
      "  warnings.warn(CV_WARNING, FutureWarning)\n"
     ]
    },
    {
     "name": "stdout",
     "output_type": "stream",
     "text": [
      "Multinomial:  [0.96940928 0.98310454 0.97145877]\n"
     ]
    }
   ],
   "source": [
    "# Bernoulli: Models whether a word in email or not\n",
    "# Multinomial: Models the # of words per email\n",
    "# laptop started stuttering when started; will take a while it gets back to normal, dont worry\n",
    "\n",
    "print('Bernoulli: ', cross_val_score(BernoulliNB(), X, y))\n",
    "print('Multinomial: ', cross_val_score(MultinomialNB(), X, y))"
   ]
  },
  {
   "cell_type": "markdown",
   "metadata": {},
   "source": [
    "### 6. Confusion matrix and Classification report\n",
    "\n",
    "Recall that to make a confusion matrix, we will need a specific split. So, use `test_train_split`, manually fit the model using the best performer, then find the confusion matrix and classificaation report (in the `metrics` package). Is your model worse at Type I or Type II errors?"
   ]
  },
  {
   "cell_type": "code",
   "execution_count": 21,
   "metadata": {},
   "outputs": [],
   "source": [
    "X_train, X_test, y_train, y_test = \\\n",
    "    train_test_split(X, y, test_size=0.3)"
   ]
  },
  {
   "cell_type": "code",
   "execution_count": 22,
   "metadata": {},
   "outputs": [
    {
     "name": "stdout",
     "output_type": "stream",
     "text": [
      "(1988, 69130) / (1988,)\n",
      "(853, 69130) / (853,)\n"
     ]
    },
    {
     "data": {
      "text/plain": [
       "0.30013106159895153"
      ]
     },
     "execution_count": 22,
     "metadata": {},
     "output_type": "execute_result"
    }
   ],
   "source": [
    "print(X_train.shape, '/', y_train.shape)\n",
    "print(X_test.shape, '/', y_test.shape)\n",
    "916. / (916. + 2136.)"
   ]
  },
  {
   "cell_type": "code",
   "execution_count": 23,
   "metadata": {},
   "outputs": [
    {
     "name": "stdout",
     "output_type": "stream",
     "text": [
      "Accuracy:\n",
      " 0.977725674091442\n",
      "Confusion Matrix:\n",
      " [[726   0]\n",
      " [ 19 108]]\n",
      "Classification Report:\n",
      "               precision    recall  f1-score   support\n",
      "\n",
      "           0       0.97      1.00      0.99       726\n",
      "           1       1.00      0.85      0.92       127\n",
      "\n",
      "    accuracy                           0.98       853\n",
      "   macro avg       0.99      0.93      0.95       853\n",
      "weighted avg       0.98      0.98      0.98       853\n",
      "\n"
     ]
    }
   ],
   "source": [
    "model = MultinomialNB().fit(X_train, y_train)\n",
    "preds = model.predict(X_test)\n",
    "\n",
    "from sklearn import metrics\n",
    "print('Accuracy:\\n', metrics.accuracy_score(y_test, preds))\n",
    "print('Confusion Matrix:\\n', metrics.confusion_matrix(y_test, preds))\n",
    "print('Classification Report:\\n', metrics.classification_report(y_test, preds))\n",
    "\n"
   ]
  },
  {
   "cell_type": "markdown",
   "metadata": {},
   "source": [
    "### 7. Test your model on the hard_ham\n",
    "\n",
    "Does it perform as well?"
   ]
  },
  {
   "cell_type": "code",
   "execution_count": 24,
   "metadata": {},
   "outputs": [
    {
     "name": "stdout",
     "output_type": "stream",
     "text": [
      "Accuracy:\n",
      " 0.329004329004329\n",
      "Confusion Matrix:\n",
      " [[ 76 155]\n",
      " [  0   0]]\n",
      "Classification Report:\n",
      "               precision    recall  f1-score   support\n",
      "\n",
      "           0       1.00      0.33      0.50       231\n",
      "           1       0.00      0.00      0.00         0\n",
      "\n",
      "    accuracy                           0.33       231\n",
      "   macro avg       0.50      0.16      0.25       231\n",
      "weighted avg       1.00      0.33      0.50       231\n",
      "\n"
     ]
    },
    {
     "name": "stderr",
     "output_type": "stream",
     "text": [
      "/home/hythm/anaconda3/lib/python3.7/site-packages/sklearn/metrics/classification.py:1439: UndefinedMetricWarning: Recall and F-score are ill-defined and being set to 0.0 in labels with no true samples.\n",
      "  'recall', 'true', average, warn_for)\n"
     ]
    }
   ],
   "source": [
    "# Answer: Not at all. It only got 33% accuracy!\n",
    "\n",
    "X_test_hard = vect.transform(hard_ham_text)\n",
    "y_test_hard = np.array([0] * len(hard_ham_text))\n",
    "\n",
    "preds_hard = model.predict(X_test_hard.toarray())\n",
    "\n",
    "print('Accuracy:\\n', metrics.accuracy_score(y_test_hard, preds_hard))\n",
    "print('Confusion Matrix:\\n', metrics.confusion_matrix(y_test_hard, preds_hard))\n",
    "print('Classification Report:\\n', metrics.classification_report(y_test_hard, preds_hard))\n",
    "\n",
    "# 168 false positives (row 0, col 1) - Type I"
   ]
  },
  {
   "cell_type": "code",
   "execution_count": 25,
   "metadata": {},
   "outputs": [
    {
     "data": {
      "text/plain": [
       "Text(0.5, 1.0, 'Number of Words per Email')"
      ]
     },
     "execution_count": 25,
     "metadata": {},
     "output_type": "execute_result"
    },
    {
     "data": {
      "image/png": "[encoded data removed]",
      "text/plain": [
       "<Figure size 432x288 with 1 Axes>"
      ]
     },
     "metadata": {
      "needs_background": "light"
     },
     "output_type": "display_data"
    }
   ],
   "source": [
    "\n",
    "\n",
    "# Just for illustration, the hard ham is much more like spam by num of words. (these are not normalized)\n",
    "\n",
    "words_per_email_hard = np.sum(X_test_hard, axis=1)\n",
    "\n",
    "plt.hist(words_per_email[:len(easy_ham_text)], bins=100, range=(0, 1000));\n",
    "plt.hist(words_per_email_hard, bins=100, range=(0, 1000))\n",
    "\n",
    "plt.legend(['Ham', 'Hard Ham'])\n",
    "plt.xlabel('Number of Words in Email')\n",
    "plt.ylabel('Number of Emails')\n",
    "plt.title('Number of Words per Email')\n",
    "\n"
   ]
  },
  {
   "cell_type": "markdown",
   "metadata": {},
   "source": [
    "### 8. Improve your model by looking at mispredictions\n",
    "\n",
    "print(the most common words in your false positives of the hard hams versus the spams. (Perhaps write a function of step 4A. Consider using a `collections.Counter` to combine the counts!) Does comparing the most frequent words in the hard ham to those in the spam give you some ideas for how to distinguish between them? What extra features might you add to your model?"
   ]
  },
  {
   "cell_type": "code",
   "execution_count": 26,
   "metadata": {},
   "outputs": [],
   "source": [
    "from collections import Counter\n",
    "\n",
    "\n",
    "def get_wordcounts(email):\n",
    "    bag = sorted(list(zip(email.indices, email.data)),\n",
    "                 key=lambda x: -x[1])\n",
    "\n",
    "    bag_set = {words[index]: freq for index, freq in bag}\n",
    "\n",
    "    return Counter(bag_set)\n",
    "\n",
    "\n",
    "def total_word_counts(emails):\n",
    "    word_counts = Counter()\n",
    "\n",
    "    for email in emails:\n",
    "        word_counts.update(get_wordcounts(email))\n",
    "\n",
    "    return word_counts\n"
   ]
  },
  {
   "cell_type": "code",
   "execution_count": 27,
   "metadata": {},
   "outputs": [
    {
     "name": "stdout",
     "output_type": "stream",
     "text": [
      "[('enenkio', 129), ('25pt', 93), ('atol', 91), ('milf', 58), ('inset', 57), ('hermio', 54), ('ebonylust4fre', 49), ('kio', 45), ('easyadpost', 43), ('eneen', 41), ('friendfind', 40), ('prizeinthebag', 39), ('fromyou2', 38), ('e89', 38), ('wake', 38), ('nasti', 37), ('nsi', 37), ('dqogicagica8yni', 37), ('hanmail', 36), ('crackmic', 35), ('cc3333', 33), ('botan', 33), ('cpillc', 32), ('listmgmt', 31), ('marshalles', 31), ('œž²', 30), ('xyak', 30), ('1167', 30), ('1596', 30), ('1d', 30), ('a248', 30), ('akamai', 30), ('columbiahous', 30), ('2ffont', 29), ('3cfont', 29), ('linkgift', 29), ('shangrila', 29), ('_0', 29), ('aff', 29), ('5in', 28), ('marriott', 28), ('aaaaaaaaaaaaaaaaaaaaaaaaaaaaaaaaaaaaaaaaaaaaaaaaaaaaaaaaaaaaaaaaaaaaaaaaaaaa', 28), ('eluxmedia', 27), ('pour', 26), ('rv', 26), ('1736', 26), ('5138', 26), ('990', 26), ('adfarm', 26), ('mediaplex', 26)]\n",
      "\n",
      "[('http', 4161), ('com', 3638), ('the', 3182), ('www', 2239), ('to', 2132), ('of', 1471), ('and', 1451), ('in', 1080), ('for', 1073), ('net', 914), ('org', 907), ('from', 881), ('2002', 829), ('by', 729), ('weblog', 716), ('with', 679), ('you', 625), ('is', 605), ('blog', 577), ('list', 569), ('thi', 561), ('html', 552), ('on', 532), ('radio', 524), ('it', 521), ('receiv', 464), ('that', 439), ('uk', 398), ('co', 390), ('php', 383), ('content', 374), ('be', 366), ('at', 359), ('id', 356), ('your', 345), ('spam', 338), ('or', 335), ('theregist', 318), ('are', 299), ('as', 299), ('blogspot', 280), ('click', 273), ('11', 271), ('index', 271), ('localhost', 260), ('news', 252), ('linux', 247), ('not', 240), ('eff', 240), ('we', 234)]\n"
     ]
    }
   ],
   "source": [
    "# Spam:\n",
    "spam_emails = vect.transform(spam_text)\n",
    "spam_counts = get_wordcounts(spam_emails)\n",
    "\n",
    "# Hard emails:\n",
    "hard_falsepositive_idxs = np.argwhere(y_test_hard == preds_hard).flatten()\n",
    "hard_counts = total_word_counts(X_test_hard[hard_falsepositive_idxs])\n",
    "        \n",
    "\n",
    "print (spam_counts.most_common(50))\n",
    "print ('')\n",
    "print (hard_counts.most_common(50))"
   ]
  },
  {
   "cell_type": "markdown",
   "metadata": {},
   "source": [
    "### Extensions\n",
    "\n",
    "- Can you improve the score on the hard ham?\n",
    "- Try to improve your model by changing or tweaking the model type. (e.g. LogisticRegression/RandomForests) Why do bigrams result in a lower accuracy? (Because nearly all of them are single-email, so they actually add MORE noise!)\n",
    "- Remove features from your model, e.g. junk words.\n",
    "- Add additional features to your model. Can you specifically come up with ideas that might detect spam vs. ham? For example, does an email have an unsubscribe link?"
   ]
  },
  {
   "cell_type": "code",
   "execution_count": null,
   "metadata": {},
   "outputs": [],
   "source": []
  },
  {
   "cell_type": "code",
   "execution_count": null,
   "metadata": {},
   "outputs": [],
   "source": []
  }
 ],
 "metadata": {
  "kernelspec": {
   "display_name": "Python 3",
   "language": "python",
   "name": "python3"
  },
  "language_info": {
   "codemirror_mode": {
    "name": "ipython",
    "version": 3
   },
   "file_extension": ".py",
   "mimetype": "text/x-python",
   "name": "python",
   "nbconvert_exporter": "python",
   "pygments_lexer": "ipython3",
   "version": "3.7.3"
  },
  "toc": {
   "nav_menu": {},
   "number_sections": false,
   "sideBar": true,
   "skip_h1_title": false,
   "title_cell": "Table of Contents",
   "title_sidebar": "Contents",
   "toc_cell": false,
   "toc_position": {},
   "toc_section_display": true,
   "toc_window_display": false
  },
  "varInspector": {
   "cols": {
    "lenName": 16,
    "lenType": 16,
    "lenVar": 40
   },
   "kernels_config": {
    "python": {
     "delete_cmd_postfix": "",
     "delete_cmd_prefix": "del ",
     "library": "var_list.py",
     "varRefreshCmd": "print(var_dic_list())"
    },
    "r": {
     "delete_cmd_postfix": ") ",
     "delete_cmd_prefix": "rm(",
     "library": "var_list.r",
     "varRefreshCmd": "cat(var_dic_list()) "
    }
   },
   "types_to_exclude": [
    "module",
    "function",
    "builtin_function_or_method",
    "instance",
    "_Feature"
   ],
   "window_display": false
  }
 },
 "nbformat": 4,
 "nbformat_minor": 1
}
